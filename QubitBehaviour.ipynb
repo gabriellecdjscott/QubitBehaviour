{
  "nbformat": 4,
  "nbformat_minor": 0,
  "metadata": {
    "colab": {
      "provenance": []
    },
    "kernelspec": {
      "name": "python3",
      "display_name": "Python 3"
    },
    "language_info": {
      "name": "python"
    }
  },
  "cells": [
    {
      "cell_type": "code",
      "execution_count": null,
      "metadata": {
        "colab": {
          "base_uri": "https://localhost:8080/"
        },
        "id": "5yzr-agS7Kou",
        "outputId": "cf69cdcc-842f-4a6d-8523-c7924b2f2967"
      },
      "outputs": [
        {
          "output_type": "stream",
          "name": "stdout",
          "text": [
            "Collecting qiskit\n",
            "  Downloading qiskit-1.0.2-cp38-abi3-manylinux_2_17_x86_64.manylinux2014_x86_64.whl (5.6 MB)\n",
            "\u001b[2K     \u001b[90m━━━━━━━━━━━━━━━━━━━━━━━━━━━━━━━━━━━━━━━━\u001b[0m \u001b[32m5.6/5.6 MB\u001b[0m \u001b[31m16.7 MB/s\u001b[0m eta \u001b[36m0:00:00\u001b[0m\n",
            "\u001b[?25hCollecting rustworkx>=0.14.0 (from qiskit)\n",
            "  Downloading rustworkx-0.14.2-cp310-cp310-manylinux_2_17_x86_64.manylinux2014_x86_64.whl (2.1 MB)\n",
            "\u001b[2K     \u001b[90m━━━━━━━━━━━━━━━━━━━━━━━━━━━━━━━━━━━━━━━━\u001b[0m \u001b[32m2.1/2.1 MB\u001b[0m \u001b[31m26.9 MB/s\u001b[0m eta \u001b[36m0:00:00\u001b[0m\n",
            "\u001b[?25hRequirement already satisfied: numpy<2,>=1.17 in /usr/local/lib/python3.10/dist-packages (from qiskit) (1.25.2)\n",
            "Requirement already satisfied: scipy>=1.5 in /usr/local/lib/python3.10/dist-packages (from qiskit) (1.11.4)\n",
            "Requirement already satisfied: sympy>=1.3 in /usr/local/lib/python3.10/dist-packages (from qiskit) (1.12)\n",
            "Collecting dill>=0.3 (from qiskit)\n",
            "  Downloading dill-0.3.8-py3-none-any.whl (116 kB)\n",
            "\u001b[2K     \u001b[90m━━━━━━━━━━━━━━━━━━━━━━━━━━━━━━━━━━━━━━━━\u001b[0m \u001b[32m116.3/116.3 kB\u001b[0m \u001b[31m10.1 MB/s\u001b[0m eta \u001b[36m0:00:00\u001b[0m\n",
            "\u001b[?25hRequirement already satisfied: python-dateutil>=2.8.0 in /usr/local/lib/python3.10/dist-packages (from qiskit) (2.8.2)\n",
            "Collecting stevedore>=3.0.0 (from qiskit)\n",
            "  Downloading stevedore-5.2.0-py3-none-any.whl (49 kB)\n",
            "\u001b[2K     \u001b[90m━━━━━━━━━━━━━━━━━━━━━━━━━━━━━━━━━━━━━━━━\u001b[0m \u001b[32m49.7/49.7 kB\u001b[0m \u001b[31m4.6 MB/s\u001b[0m eta \u001b[36m0:00:00\u001b[0m\n",
            "\u001b[?25hRequirement already satisfied: typing-extensions in /usr/local/lib/python3.10/dist-packages (from qiskit) (4.10.0)\n",
            "Collecting symengine>=0.11 (from qiskit)\n",
            "  Downloading symengine-0.11.0-cp310-cp310-manylinux_2_12_x86_64.manylinux2010_x86_64.whl (39.4 MB)\n",
            "\u001b[2K     \u001b[90m━━━━━━━━━━━━━━━━━━━━━━━━━━━━━━━━━━━━━━━━\u001b[0m \u001b[32m39.4/39.4 MB\u001b[0m \u001b[31m12.2 MB/s\u001b[0m eta \u001b[36m0:00:00\u001b[0m\n",
            "\u001b[?25hRequirement already satisfied: six>=1.5 in /usr/local/lib/python3.10/dist-packages (from python-dateutil>=2.8.0->qiskit) (1.16.0)\n",
            "Collecting pbr!=2.1.0,>=2.0.0 (from stevedore>=3.0.0->qiskit)\n",
            "  Downloading pbr-6.0.0-py2.py3-none-any.whl (107 kB)\n",
            "\u001b[2K     \u001b[90m━━━━━━━━━━━━━━━━━━━━━━━━━━━━━━━━━━━━━━━━\u001b[0m \u001b[32m107.5/107.5 kB\u001b[0m \u001b[31m6.6 MB/s\u001b[0m eta \u001b[36m0:00:00\u001b[0m\n",
            "\u001b[?25hRequirement already satisfied: mpmath>=0.19 in /usr/local/lib/python3.10/dist-packages (from sympy>=1.3->qiskit) (1.3.0)\n",
            "Installing collected packages: symengine, rustworkx, pbr, dill, stevedore, qiskit\n",
            "Successfully installed dill-0.3.8 pbr-6.0.0 qiskit-1.0.2 rustworkx-0.14.2 stevedore-5.2.0 symengine-0.11.0\n"
          ]
        }
      ],
      "source": [
        "!pip install qiskit"
      ]
    },
    {
      "cell_type": "code",
      "source": [
        "from qiskit import QuantumCircuit\n",
        "\n",
        "# Creating a circuit with 3 qubits\n",
        "sender_circuit = QuantumCircuit(3)\n",
        "\n",
        "# Apply a Hadamard gate to the first qubit to create a superposition\n",
        "sender_circuit.h(0)\n",
        "\n",
        "# Use CNOT gates to entangle the other two qubits with the first qubit\n",
        "sender_circuit.cx(0, 1)\n",
        "sender_circuit.cx(0, 2)\n",
        "\n",
        "# Draw the circuit\n",
        "print(sender_circuit)"
      ],
      "metadata": {
        "colab": {
          "base_uri": "https://localhost:8080/"
        },
        "id": "W_pMWLbY7Nas",
        "outputId": "a9589b6d-b366-4507-8538-3cb6b141b203"
      },
      "execution_count": null,
      "outputs": [
        {
          "output_type": "stream",
          "name": "stdout",
          "text": [
            "     ┌───┐          \n",
            "q_0: ┤ H ├──■────■──\n",
            "     └───┘┌─┴─┐  │  \n",
            "q_1: ─────┤ X ├──┼──\n",
            "          └───┘┌─┴─┐\n",
            "q_2: ──────────┤ X ├\n",
            "               └───┘\n"
          ]
        }
      ]
    },
    {
      "cell_type": "code",
      "source": [
        "from qiskit import QuantumCircuit\n",
        "\n",
        "# Step 1: Create a circuit with 5 qubits\n",
        "receiver_circuit = QuantumCircuit(5, 2)  # 5 qubits, 2 classical bits for measurement\n",
        "\n",
        "# Steps to replicate the sender's entanglement in the receiver's circuit\n",
        "# Apply a Hadamard gate to the first qubit and entangle qubits as before\n",
        "receiver_circuit.h(0)\n",
        "receiver_circuit.cx(0, 1)\n",
        "receiver_circuit.cx(0, 2)\n",
        "\n",
        "# Parity check between the 1st and 2nd qubit\n",
        "receiver_circuit.cx(0, 3)\n",
        "receiver_circuit.cx(1, 3)\n",
        "\n",
        "# Parity check between the 1st and 3rd qubit\n",
        "receiver_circuit.cx(0, 4)\n",
        "receiver_circuit.cx(2, 4)\n",
        "\n",
        "# Measure the parity qubits\n",
        "receiver_circuit.measure(3, 0)  # Measure qubit 3 into classical bit 0\n",
        "receiver_circuit.measure(4, 1)  # Measure qubit 4 into classical bit 1\n",
        "\n",
        "# Print the circuit\n",
        "print(receiver_circuit)"
      ],
      "metadata": {
        "colab": {
          "base_uri": "https://localhost:8080/"
        },
        "id": "ywF-xg-P7hjZ",
        "outputId": "2e556dc9-ffea-4a93-ce63-684007e07953"
      },
      "execution_count": null,
      "outputs": [
        {
          "output_type": "stream",
          "name": "stdout",
          "text": [
            "     ┌───┐                                    \n",
            "q_0: ┤ H ├──■────■────■─────────■─────────────\n",
            "     └───┘┌─┴─┐  │    │         │             \n",
            "q_1: ─────┤ X ├──┼────┼────■────┼─────────────\n",
            "          └───┘┌─┴─┐  │    │    │             \n",
            "q_2: ──────────┤ X ├──┼────┼────┼────■────────\n",
            "               └───┘┌─┴─┐┌─┴─┐  │    │  ┌─┐   \n",
            "q_3: ───────────────┤ X ├┤ X ├──┼────┼──┤M├───\n",
            "                    └───┘└───┘┌─┴─┐┌─┴─┐└╥┘┌─┐\n",
            "q_4: ─────────────────────────┤ X ├┤ X ├─╫─┤M├\n",
            "                              └───┘└───┘ ║ └╥┘\n",
            "c: 2/════════════════════════════════════╩══╩═\n",
            "                                         0  1 \n"
          ]
        }
      ]
    },
    {
      "cell_type": "code",
      "source": [
        "from qiskit import QuantumCircuit\n",
        "# Create a separate correction circuit for demonstrating the correction\n",
        "correction_circuit = QuantumCircuit(5)\n",
        "correction_circuit.x(1)  # Apply correction to the 2nd qubit (index 1)\n",
        "\n",
        "# Combine the receiver circuit with the correction circuit using compose\n",
        "full_circuit = receiver_circuit.compose(correction_circuit)\n",
        "\n",
        "# Print the combined circuit\n",
        "print(full_circuit)"
      ],
      "metadata": {
        "colab": {
          "base_uri": "https://localhost:8080/"
        },
        "id": "IVHEEiyb7uz2",
        "outputId": "d3795c5f-01f4-4f4f-ed22-1d755c6e1091"
      },
      "execution_count": null,
      "outputs": [
        {
          "output_type": "stream",
          "name": "stdout",
          "text": [
            "     ┌───┐                                    \n",
            "q_0: ┤ H ├──■────■────■─────────■─────────────\n",
            "     └───┘┌─┴─┐  │    │         │  ┌───┐      \n",
            "q_1: ─────┤ X ├──┼────┼────■────┼──┤ X ├──────\n",
            "          └───┘┌─┴─┐  │    │    │  └───┘      \n",
            "q_2: ──────────┤ X ├──┼────┼────┼────■────────\n",
            "               └───┘┌─┴─┐┌─┴─┐  │    │  ┌─┐   \n",
            "q_3: ───────────────┤ X ├┤ X ├──┼────┼──┤M├───\n",
            "                    └───┘└───┘┌─┴─┐┌─┴─┐└╥┘┌─┐\n",
            "q_4: ─────────────────────────┤ X ├┤ X ├─╫─┤M├\n",
            "                              └───┘└───┘ ║ └╥┘\n",
            "c: 2/════════════════════════════════════╩══╩═\n",
            "                                         0  1 \n"
          ]
        }
      ]
    }
  ]
}